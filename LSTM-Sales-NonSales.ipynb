{
 "cells": [
  {
   "cell_type": "code",
   "execution_count": 1,
   "id": "fbafdb0d",
   "metadata": {
    "scrolled": true
   },
   "outputs": [],
   "source": [
    "import numpy as np\n",
    "import pandas as pd"
   ]
  },
  {
   "cell_type": "code",
   "execution_count": 2,
   "id": "f61c63f1",
   "metadata": {
    "scrolled": true
   },
   "outputs": [],
   "source": [
    "import re \n",
    "from tensorflow.keras.models import Sequential\n",
    "from tensorflow.keras.layers import Embedding,LSTM,Dropout,Dense\n",
    "from tensorflow.keras.preprocessing.text import Tokenizer\n",
    "from tensorflow.keras.preprocessing.sequence import pad_sequences"
   ]
  },
  {
   "cell_type": "code",
   "execution_count": 3,
   "id": "b597cf54",
   "metadata": {},
   "outputs": [],
   "source": [
    "from sklearn.model_selection import train_test_split"
   ]
  },
  {
   "cell_type": "code",
   "execution_count": 4,
   "id": "b5269086",
   "metadata": {},
   "outputs": [],
   "source": [
    "headers=[\"Text\",\"Status\"]"
   ]
  },
  {
   "cell_type": "code",
   "execution_count": 5,
   "id": "8f244e1e",
   "metadata": {},
   "outputs": [],
   "source": [
    "df = pd.read_csv(\"new_sales_extended.csv\",header=None,encoding='cp850')\n",
    "df.drop([2,3],axis=1,inplace=True)\n",
    "df.columns = headers"
   ]
  },
  {
   "cell_type": "code",
   "execution_count": 6,
   "id": "2817c475",
   "metadata": {},
   "outputs": [
    {
     "data": {
      "text/plain": [
       "1    1712\n",
       "0    1381\n",
       "Name: Status, dtype: int64"
      ]
     },
     "execution_count": 6,
     "metadata": {},
     "output_type": "execute_result"
    }
   ],
   "source": [
    "df['Status'].value_counts()"
   ]
  },
  {
   "cell_type": "code",
   "execution_count": 7,
   "id": "93f669f7",
   "metadata": {},
   "outputs": [
    {
     "data": {
      "text/html": [
       "<div>\n",
       "<style scoped>\n",
       "    .dataframe tbody tr th:only-of-type {\n",
       "        vertical-align: middle;\n",
       "    }\n",
       "\n",
       "    .dataframe tbody tr th {\n",
       "        vertical-align: top;\n",
       "    }\n",
       "\n",
       "    .dataframe thead th {\n",
       "        text-align: right;\n",
       "    }\n",
       "</style>\n",
       "<table border=\"1\" class=\"dataframe\">\n",
       "  <thead>\n",
       "    <tr style=\"text-align: right;\">\n",
       "      <th></th>\n",
       "      <th>Text</th>\n",
       "      <th>Status</th>\n",
       "    </tr>\n",
       "  </thead>\n",
       "  <tbody>\n",
       "    <tr>\n",
       "      <th>0</th>\n",
       "      <td>Could you please approve this project for {{Da...</td>\n",
       "      <td>0</td>\n",
       "    </tr>\n",
       "    <tr>\n",
       "      <th>1</th>\n",
       "      <td>Hey, I just got your msg from Friday.  I left ...</td>\n",
       "      <td>0</td>\n",
       "    </tr>\n",
       "    <tr>\n",
       "      <th>2</th>\n",
       "      <td>Can you give more details or email the plan pr...</td>\n",
       "      <td>0</td>\n",
       "    </tr>\n",
       "    <tr>\n",
       "      <th>3</th>\n",
       "      <td>Hi {{Name}}, Just a quick follow up here about...</td>\n",
       "      <td>1</td>\n",
       "    </tr>\n",
       "    <tr>\n",
       "      <th>4</th>\n",
       "      <td>Hi,\\nYou are really are patient ??\\nSo what yo...</td>\n",
       "      <td>1</td>\n",
       "    </tr>\n",
       "  </tbody>\n",
       "</table>\n",
       "</div>"
      ],
      "text/plain": [
       "                                                Text  Status\n",
       "0  Could you please approve this project for {{Da...       0\n",
       "1  Hey, I just got your msg from Friday.  I left ...       0\n",
       "2  Can you give more details or email the plan pr...       0\n",
       "3  Hi {{Name}}, Just a quick follow up here about...       1\n",
       "4  Hi,\\nYou are really are patient ??\\nSo what yo...       1"
      ]
     },
     "execution_count": 7,
     "metadata": {},
     "output_type": "execute_result"
    }
   ],
   "source": [
    "df.head()"
   ]
  },
  {
   "cell_type": "code",
   "execution_count": 8,
   "id": "cefd9b5f",
   "metadata": {},
   "outputs": [],
   "source": [
    "X_train, X_test, y_train, y_test = train_test_split(df['Text'], df['Status'], random_state=0, train_size = .90)"
   ]
  },
  {
   "cell_type": "code",
   "execution_count": 9,
   "id": "700e6979",
   "metadata": {},
   "outputs": [
    {
     "data": {
      "text/plain": [
       "2305    Here is the wh data.  I have included the file...\n",
       "1114                        Follow up with me in a month?\n",
       "2593    Hi Gaurav, Thanks for reaching out. I have att...\n",
       "989     We would love to jump on a quick call to discu...\n",
       "678                    {{Name}} and I would love to come.\n",
       "                              ...                        \n",
       "2641    Hi {{Name}}, Thanks for reaching out. To launc...\n",
       "311     Please e-mail me if you would like to pick up ...\n",
       "553     Hi Bilal, As per our prior conversation, find ...\n",
       "2252    I need for you to find out how much the balanc...\n",
       "2398    Please send the latest cost estimates when you...\n",
       "Name: Text, Length: 310, dtype: object"
      ]
     },
     "execution_count": 9,
     "metadata": {},
     "output_type": "execute_result"
    }
   ],
   "source": [
    "X_test"
   ]
  },
  {
   "cell_type": "code",
   "execution_count": 10,
   "id": "f4afff39",
   "metadata": {},
   "outputs": [],
   "source": [
    "X_train = pd.DataFrame(X_train)\n",
    "X_test = pd.DataFrame(X_test)"
   ]
  },
  {
   "cell_type": "code",
   "execution_count": 11,
   "id": "4d61383f",
   "metadata": {},
   "outputs": [],
   "source": [
    "train = pd.DataFrame(X_train)\n",
    "test = pd.DataFrame(X_test)"
   ]
  },
  {
   "cell_type": "code",
   "execution_count": 12,
   "id": "24832254",
   "metadata": {},
   "outputs": [
    {
     "data": {
      "text/html": [
       "<div>\n",
       "<style scoped>\n",
       "    .dataframe tbody tr th:only-of-type {\n",
       "        vertical-align: middle;\n",
       "    }\n",
       "\n",
       "    .dataframe tbody tr th {\n",
       "        vertical-align: top;\n",
       "    }\n",
       "\n",
       "    .dataframe thead th {\n",
       "        text-align: right;\n",
       "    }\n",
       "</style>\n",
       "<table border=\"1\" class=\"dataframe\">\n",
       "  <thead>\n",
       "    <tr style=\"text-align: right;\">\n",
       "      <th></th>\n",
       "      <th>Text</th>\n",
       "    </tr>\n",
       "  </thead>\n",
       "  <tbody>\n",
       "    <tr>\n",
       "      <th>716</th>\n",
       "      <td>Dear Ayesha,\\nI hope well. Please can you outl...</td>\n",
       "    </tr>\n",
       "    <tr>\n",
       "      <th>189</th>\n",
       "      <td>Charts for today's briefing are attached</td>\n",
       "    </tr>\n",
       "    <tr>\n",
       "      <th>2158</th>\n",
       "      <td>Weirdly enough, the link you sent was invalid ...</td>\n",
       "    </tr>\n",
       "    <tr>\n",
       "      <th>618</th>\n",
       "      <td>\\nThanks Verdi.</td>\n",
       "    </tr>\n",
       "    <tr>\n",
       "      <th>1931</th>\n",
       "      <td>Hassaan,\\nI have a client asking to meet at 3:...</td>\n",
       "    </tr>\n",
       "    <tr>\n",
       "      <th>...</th>\n",
       "      <td>...</td>\n",
       "    </tr>\n",
       "    <tr>\n",
       "      <th>763</th>\n",
       "      <td>\\nHello Ahshan!\\nMy name is Julia, I'm HR Mana...</td>\n",
       "    </tr>\n",
       "    <tr>\n",
       "      <th>835</th>\n",
       "      <td>Did they write an article about us?\\n</td>\n",
       "    </tr>\n",
       "    <tr>\n",
       "      <th>1653</th>\n",
       "      <td>Hello {{Name}}, Thank you for getting back to ...</td>\n",
       "    </tr>\n",
       "    <tr>\n",
       "      <th>2607</th>\n",
       "      <td>she told me you are not coming office tomorrow\\n</td>\n",
       "    </tr>\n",
       "    <tr>\n",
       "      <th>2732</th>\n",
       "      <td>\\nHi Nou,\\nJust wanted to follow up on the doc...</td>\n",
       "    </tr>\n",
       "  </tbody>\n",
       "</table>\n",
       "<p>2783 rows × 1 columns</p>\n",
       "</div>"
      ],
      "text/plain": [
       "                                                   Text\n",
       "716   Dear Ayesha,\\nI hope well. Please can you outl...\n",
       "189            Charts for today's briefing are attached\n",
       "2158  Weirdly enough, the link you sent was invalid ...\n",
       "618                                     \\nThanks Verdi.\n",
       "1931  Hassaan,\\nI have a client asking to meet at 3:...\n",
       "...                                                 ...\n",
       "763   \\nHello Ahshan!\\nMy name is Julia, I'm HR Mana...\n",
       "835               Did they write an article about us?\\n\n",
       "1653  Hello {{Name}}, Thank you for getting back to ...\n",
       "2607   she told me you are not coming office tomorrow\\n\n",
       "2732  \\nHi Nou,\\nJust wanted to follow up on the doc...\n",
       "\n",
       "[2783 rows x 1 columns]"
      ]
     },
     "execution_count": 12,
     "metadata": {},
     "output_type": "execute_result"
    }
   ],
   "source": [
    "X_train"
   ]
  },
  {
   "cell_type": "code",
   "execution_count": 13,
   "id": "ed06889e",
   "metadata": {},
   "outputs": [],
   "source": [
    "vocab_size = 5000\n",
    "max_len = 30"
   ]
  },
  {
   "cell_type": "code",
   "execution_count": 14,
   "id": "d0f2d1b9",
   "metadata": {
    "scrolled": true
   },
   "outputs": [],
   "source": [
    "def clean(text):\n",
    "    text = text.lower()\n",
    "    text = re.sub(\"(http|https|www)(:|\\.)\\S+.com\",\" \",text)\n",
    "    text = re.sub(\"[^\\w\\d]\",\" \",text)\n",
    "    text = \" \".join([t for t in text.split()])\n",
    "    return text"
   ]
  },
  {
   "cell_type": "code",
   "execution_count": 15,
   "id": "18fffa9f",
   "metadata": {
    "scrolled": true
   },
   "outputs": [],
   "source": [
    "X_train['Cleaned'] =  X_train['Text'].apply(lambda x : clean(x))"
   ]
  },
  {
   "cell_type": "code",
   "execution_count": 16,
   "id": "850efc44",
   "metadata": {
    "scrolled": true
   },
   "outputs": [
    {
     "data": {
      "text/html": [
       "<div>\n",
       "<style scoped>\n",
       "    .dataframe tbody tr th:only-of-type {\n",
       "        vertical-align: middle;\n",
       "    }\n",
       "\n",
       "    .dataframe tbody tr th {\n",
       "        vertical-align: top;\n",
       "    }\n",
       "\n",
       "    .dataframe thead th {\n",
       "        text-align: right;\n",
       "    }\n",
       "</style>\n",
       "<table border=\"1\" class=\"dataframe\">\n",
       "  <thead>\n",
       "    <tr style=\"text-align: right;\">\n",
       "      <th></th>\n",
       "      <th>Text</th>\n",
       "      <th>Cleaned</th>\n",
       "    </tr>\n",
       "  </thead>\n",
       "  <tbody>\n",
       "    <tr>\n",
       "      <th>716</th>\n",
       "      <td>Dear Ayesha,\\nI hope well. Please can you outl...</td>\n",
       "      <td>dear ayesha i hope well please can you outline...</td>\n",
       "    </tr>\n",
       "    <tr>\n",
       "      <th>189</th>\n",
       "      <td>Charts for today's briefing are attached</td>\n",
       "      <td>charts for today s briefing are attached</td>\n",
       "    </tr>\n",
       "    <tr>\n",
       "      <th>2158</th>\n",
       "      <td>Weirdly enough, the link you sent was invalid ...</td>\n",
       "      <td>weirdly enough the link you sent was invalid b...</td>\n",
       "    </tr>\n",
       "    <tr>\n",
       "      <th>618</th>\n",
       "      <td>\\nThanks Verdi.</td>\n",
       "      <td>thanks verdi</td>\n",
       "    </tr>\n",
       "    <tr>\n",
       "      <th>1931</th>\n",
       "      <td>Hassaan,\\nI have a client asking to meet at 3:...</td>\n",
       "      <td>hassaan i have a client asking to meet at 3 00...</td>\n",
       "    </tr>\n",
       "  </tbody>\n",
       "</table>\n",
       "</div>"
      ],
      "text/plain": [
       "                                                   Text  \\\n",
       "716   Dear Ayesha,\\nI hope well. Please can you outl...   \n",
       "189            Charts for today's briefing are attached   \n",
       "2158  Weirdly enough, the link you sent was invalid ...   \n",
       "618                                     \\nThanks Verdi.   \n",
       "1931  Hassaan,\\nI have a client asking to meet at 3:...   \n",
       "\n",
       "                                                Cleaned  \n",
       "716   dear ayesha i hope well please can you outline...  \n",
       "189            charts for today s briefing are attached  \n",
       "2158  weirdly enough the link you sent was invalid b...  \n",
       "618                                        thanks verdi  \n",
       "1931  hassaan i have a client asking to meet at 3 00...  "
      ]
     },
     "execution_count": 16,
     "metadata": {},
     "output_type": "execute_result"
    }
   ],
   "source": [
    "X_train.head()"
   ]
  },
  {
   "cell_type": "code",
   "execution_count": 17,
   "id": "cab5e56e",
   "metadata": {},
   "outputs": [],
   "source": [
    "token = Tokenizer(num_words=vocab_size)\n",
    "token.fit_on_texts(X_train['Cleaned'])\n",
    "X_train = token.texts_to_sequences(X_train['Cleaned'])"
   ]
  },
  {
   "cell_type": "code",
   "execution_count": 18,
   "id": "936db7d1",
   "metadata": {
    "scrolled": true
   },
   "outputs": [],
   "source": [
    "import pickle\n",
    "\n",
    "# saving\n",
    "with open('tokenizer_new.pickle', 'wb') as handle:\n",
    "    pickle.dump(token, handle, protocol=pickle.HIGHEST_PROTOCOL)"
   ]
  },
  {
   "cell_type": "code",
   "execution_count": 19,
   "id": "4198ef2c",
   "metadata": {},
   "outputs": [],
   "source": [
    "X_test = X_test['Text'].apply(lambda x : clean(x))\n",
    "X_test = token.texts_to_sequences(X_test)"
   ]
  },
  {
   "cell_type": "code",
   "execution_count": 20,
   "id": "4a0397c6",
   "metadata": {},
   "outputs": [],
   "source": [
    "X_test = pad_sequences(X_test,padding='pre',truncating='pre',maxlen=max_len)"
   ]
  },
  {
   "cell_type": "code",
   "execution_count": 21,
   "id": "1c081d4c",
   "metadata": {
    "scrolled": true
   },
   "outputs": [],
   "source": [
    "X_train = pad_sequences(X_train,maxlen=max_len,padding='pre',truncating='pre')"
   ]
  },
  {
   "cell_type": "code",
   "execution_count": 22,
   "id": "7ade110b",
   "metadata": {},
   "outputs": [
    {
     "data": {
      "text/plain": [
       "array([[813, 521,  30, ...,   2, 141, 813],\n",
       "       [  0,   0,   0, ...,  10,   5, 136],\n",
       "       [274, 439, 284, ...,  37,  79,  34],\n",
       "       ...,\n",
       "       [  2, 175,   5, ..., 152,  54, 124],\n",
       "       [  0,   0,   0, ...,  36,  28,  33],\n",
       "       [  0,   0,   0, ..., 222,  18, 301]])"
      ]
     },
     "execution_count": 22,
     "metadata": {},
     "output_type": "execute_result"
    }
   ],
   "source": [
    "X_test"
   ]
  },
  {
   "cell_type": "code",
   "execution_count": 23,
   "id": "08ba2074",
   "metadata": {},
   "outputs": [],
   "source": [
    "model = Sequential([\n",
    "    Embedding(vocab_size,100,input_length=max_len),\n",
    "    Dropout(0.2),\n",
    "    LSTM(200),\n",
    "    Dropout(0.2),\n",
    "    Dense(1,activation='sigmoid')\n",
    "])"
   ]
  },
  {
   "cell_type": "code",
   "execution_count": 24,
   "id": "f8e83811",
   "metadata": {},
   "outputs": [],
   "source": [
    "model.compile(loss='binary_crossentropy',optimizer='adam',metrics=['acc'])"
   ]
  },
  {
   "cell_type": "code",
   "execution_count": 25,
   "id": "e342c175",
   "metadata": {},
   "outputs": [
    {
     "name": "stdout",
     "output_type": "stream",
     "text": [
      "Model: \"sequential\"\n",
      "_________________________________________________________________\n",
      " Layer (type)                Output Shape              Param #   \n",
      "=================================================================\n",
      " embedding (Embedding)       (None, 30, 100)           500000    \n",
      "                                                                 \n",
      " dropout (Dropout)           (None, 30, 100)           0         \n",
      "                                                                 \n",
      " lstm (LSTM)                 (None, 200)               240800    \n",
      "                                                                 \n",
      " dropout_1 (Dropout)         (None, 200)               0         \n",
      "                                                                 \n",
      " dense (Dense)               (None, 1)                 201       \n",
      "                                                                 \n",
      "=================================================================\n",
      "Total params: 741,001\n",
      "Trainable params: 741,001\n",
      "Non-trainable params: 0\n",
      "_________________________________________________________________\n"
     ]
    }
   ],
   "source": [
    "model.summary()"
   ]
  },
  {
   "cell_type": "code",
   "execution_count": 26,
   "id": "f4dc7c2c",
   "metadata": {},
   "outputs": [
    {
     "data": {
      "text/plain": [
       "(2783, 30)"
      ]
     },
     "execution_count": 26,
     "metadata": {},
     "output_type": "execute_result"
    }
   ],
   "source": [
    "X_train.shape"
   ]
  },
  {
   "cell_type": "code",
   "execution_count": 27,
   "id": "711ed940",
   "metadata": {},
   "outputs": [
    {
     "name": "stdout",
     "output_type": "stream",
     "text": [
      "Epoch 1/5\n",
      "174/174 [==============================] - 5s 21ms/step - loss: 0.2970 - acc: 0.8926 - val_loss: 0.1167 - val_acc: 0.9613\n",
      "Epoch 2/5\n",
      "174/174 [==============================] - 3s 19ms/step - loss: 0.0794 - acc: 0.9752 - val_loss: 0.0995 - val_acc: 0.9645\n",
      "Epoch 3/5\n",
      "174/174 [==============================] - 3s 19ms/step - loss: 0.0495 - acc: 0.9867 - val_loss: 0.0770 - val_acc: 0.9677\n",
      "Epoch 4/5\n",
      "174/174 [==============================] - 3s 18ms/step - loss: 0.0252 - acc: 0.9925 - val_loss: 0.0955 - val_acc: 0.9645\n",
      "Epoch 5/5\n",
      "174/174 [==============================] - 3s 18ms/step - loss: 0.0131 - acc: 0.9957 - val_loss: 0.0738 - val_acc: 0.9710\n"
     ]
    }
   ],
   "source": [
    "history =  model.fit(X_train,y_train,epochs=5,batch_size=16,validation_data=(X_test,y_test))\n",
    "# history = model.fit(X_train,y_train)"
   ]
  },
  {
   "cell_type": "code",
   "execution_count": 28,
   "id": "fd7dc6c1",
   "metadata": {},
   "outputs": [
    {
     "data": {
      "text/html": [
       "<div>\n",
       "<style scoped>\n",
       "    .dataframe tbody tr th:only-of-type {\n",
       "        vertical-align: middle;\n",
       "    }\n",
       "\n",
       "    .dataframe tbody tr th {\n",
       "        vertical-align: top;\n",
       "    }\n",
       "\n",
       "    .dataframe thead th {\n",
       "        text-align: right;\n",
       "    }\n",
       "</style>\n",
       "<table border=\"1\" class=\"dataframe\">\n",
       "  <thead>\n",
       "    <tr style=\"text-align: right;\">\n",
       "      <th></th>\n",
       "      <th>loss</th>\n",
       "      <th>acc</th>\n",
       "      <th>val_loss</th>\n",
       "      <th>val_acc</th>\n",
       "    </tr>\n",
       "  </thead>\n",
       "  <tbody>\n",
       "    <tr>\n",
       "      <th>0</th>\n",
       "      <td>0.296972</td>\n",
       "      <td>0.892562</td>\n",
       "      <td>0.116713</td>\n",
       "      <td>0.961290</td>\n",
       "    </tr>\n",
       "    <tr>\n",
       "      <th>1</th>\n",
       "      <td>0.079433</td>\n",
       "      <td>0.975207</td>\n",
       "      <td>0.099478</td>\n",
       "      <td>0.964516</td>\n",
       "    </tr>\n",
       "    <tr>\n",
       "      <th>2</th>\n",
       "      <td>0.049515</td>\n",
       "      <td>0.986705</td>\n",
       "      <td>0.076977</td>\n",
       "      <td>0.967742</td>\n",
       "    </tr>\n",
       "    <tr>\n",
       "      <th>3</th>\n",
       "      <td>0.025235</td>\n",
       "      <td>0.992454</td>\n",
       "      <td>0.095489</td>\n",
       "      <td>0.964516</td>\n",
       "    </tr>\n",
       "    <tr>\n",
       "      <th>4</th>\n",
       "      <td>0.013061</td>\n",
       "      <td>0.995688</td>\n",
       "      <td>0.073843</td>\n",
       "      <td>0.970968</td>\n",
       "    </tr>\n",
       "  </tbody>\n",
       "</table>\n",
       "</div>"
      ],
      "text/plain": [
       "       loss       acc  val_loss   val_acc\n",
       "0  0.296972  0.892562  0.116713  0.961290\n",
       "1  0.079433  0.975207  0.099478  0.964516\n",
       "2  0.049515  0.986705  0.076977  0.967742\n",
       "3  0.025235  0.992454  0.095489  0.964516\n",
       "4  0.013061  0.995688  0.073843  0.970968"
      ]
     },
     "execution_count": 28,
     "metadata": {},
     "output_type": "execute_result"
    }
   ],
   "source": [
    "history_df = pd.DataFrame(history.history)\n",
    "history_df"
   ]
  },
  {
   "cell_type": "code",
   "execution_count": 29,
   "id": "7112db28",
   "metadata": {
    "scrolled": false
   },
   "outputs": [
    {
     "data": {
      "text/plain": [
       "<AxesSubplot: title={'center': 'Loss'}>"
      ]
     },
     "execution_count": 29,
     "metadata": {},
     "output_type": "execute_result"
    },
    {
     "data": {
      "image/png": "[encoded data removed]",
      "text/plain": [
       "<Figure size 640x480 with 1 Axes>"
      ]
     },
     "metadata": {},
     "output_type": "display_data"
    },
    {
     "data": {
      "image/png": "[encoded data removed]",
      "text/plain": [
       "<Figure size 640x480 with 1 Axes>"
      ]
     },
     "metadata": {},
     "output_type": "display_data"
    }
   ],
   "source": [
    "history_df[['acc','val_acc']].plot(title='Accuracy')\n",
    "history_df[['loss','val_loss']].plot(title='Loss')"
   ]
  },
  {
   "cell_type": "code",
   "execution_count": null,
   "id": "1de0f55a",
   "metadata": {
    "scrolled": true
   },
   "outputs": [],
   "source": [
    "loss,acc = model.evaluate(X_test,test['Status'])\n",
    "acc"
   ]
  },
  {
   "cell_type": "code",
   "execution_count": 32,
   "id": "a28e533a",
   "metadata": {},
   "outputs": [],
   "source": [
    "# model.save('99_accuracy_lstm')\n",
    "model.save('99_accuracy_lstm_new2.h5')"
   ]
  },
  {
   "cell_type": "code",
   "execution_count": null,
   "id": "e188a7ca",
   "metadata": {},
   "outputs": [],
   "source": [
    "# newinput = [\"I hope {{Name}} was able to translate your expectations into a reality. We can jump on another call to go through these and collect any feedback. I was also curious about a separate project you discussed which was more suitable for {{Name}}. Would you like to get started there?\"]\n",
    "# newinput = [\"Hi, Rohan! We've heard your feedback, and we're excited to announce the return of our unlimited plan! Thanks to our amazing community, we're empowering you to write as much as you want without worrying about usage costs or how many words you have left. With our unlimited plan, you'll get: Unlimited access to Blog Post Wizard and 90+ writing and creativity tools Four extra seats for your team Translation support to help you reach a global audience Regular updates, priority customer support, and early access to new features Three months free with an annual plan Upgrade today and save an additional 25% with our annual plan!\"]\n",
    "# newinput = [\"Your support is greatly appreciated. I will also share the recording and transcript of the call after the end of the session.\"]"
   ]
  },
  {
   "cell_type": "code",
   "execution_count": 30,
   "id": "2606cca4",
   "metadata": {
    "scrolled": true
   },
   "outputs": [],
   "source": [
    "test_df = pd.read_csv(\"TestData.csv\",header=None,encoding='cp1252')\n",
    "test_df.columns = headers\n",
    "original_data = test_df\n",
    "check = test_df['Text'].apply(lambda x : clean(x))\n",
    "testing_data = token.texts_to_sequences(check)\n",
    "testing_data = pad_sequences(testing_data,padding='pre',truncating='pre',maxlen=max_len)"
   ]
  },
  {
   "cell_type": "code",
   "execution_count": 31,
   "id": "5d853382",
   "metadata": {
    "scrolled": true
   },
   "outputs": [
    {
     "name": "stdout",
     "output_type": "stream",
     "text": [
      "10/10 [==============================] - 0s 8ms/step - loss: 0.0738 - acc: 0.9710\n"
     ]
    },
    {
     "data": {
      "text/plain": [
       "0.9709677696228027"
      ]
     },
     "execution_count": 31,
     "metadata": {},
     "output_type": "execute_result"
    }
   ],
   "source": [
    "loss,acc = model.evaluate(X_test,y_test)\n",
    "acc"
   ]
  },
  {
   "cell_type": "code",
   "execution_count": null,
   "id": "822540cf",
   "metadata": {},
   "outputs": [],
   "source": [
    "type(check[0])"
   ]
  },
  {
   "cell_type": "code",
   "execution_count": null,
   "id": "932ca5d4",
   "metadata": {},
   "outputs": [],
   "source": [
    "loss,acc = model.evaluate(testing_data,original_data['Status'])\n",
    "acc"
   ]
  },
  {
   "cell_type": "code",
   "execution_count": null,
   "id": "52f01abc",
   "metadata": {},
   "outputs": [],
   "source": [
    "# nn = '''Hi Jeff,\n",
    "# I found your company on Indeed, on the Web and love the direction of your company.\n",
    "# We're an ex-Google team in Silicon Valley who have executed projects for Airware, Cape, Vantage Robotics, The league and over 100 other companies. Our RapidResponse program puts our engineers on your project within 72 hours, thus as much as increasing productivity 200% within 30-days of joining the project; all of our team members have been verified by our ex-Google core team of engineers in San Francisco, California, and are ready to join your project today.\n",
    "# Our team specializes in four key areas of development, including –\n",
    "# 1. Full-stack engineering\n",
    "# 2. Back-end engineering\n",
    "# 3. Data science\n",
    "# 4. Mobile engineering\n",
    "# You can explore our engineering work: \n",
    "# Punch Engineering Services \n",
    "# I'd like to discuss a 90-day pilot of our RapidResponse program, once again our ex-Google, verified engineering team can get started on your project in as little as 72 hours notice. \n",
    "# How's your calendar any morning this week for a call?\n",
    "# '''\n",
    "# nn = '''Hi Randy,\n",
    "# Apologies for the late response, this email somehow ended up in my spam.\n",
    "# Can we schedule a call for early next week?\n",
    "# Please let me know your availability, I'll send the invites accordingly.\n",
    "# Thanks,'''\n",
    "# nn ='''Hi Matthewdaddino,\n",
    "# We've seen many times where a current engineering team may not be meeting expectations. If this is true with your team, we've created a Project Hand Off Checklist where our ex-Google team will take over and begin executing your project within 1-week of handoff and we will turn the ship around.\n",
    "# We've developed digital products for SugarCRM, Google, PocketGems, Airware, Cape, Marie Kondo, and over 70+ other startups around the world, and we'd like to do the same for MAKERS NUTRITION.\n",
    "# James Gutierrez, CEO of Insikt, said \"Punch delivers, plain and simple.\"\n",
    "# In our Project Hand Off Checklist, we will make sure we don't miss anything, including code documentation, hosting, codebase requirements, versioning access, administration, testing, and data dumps.\n",
    "# <image002.png>\n",
    "#  Once handoff to our Punch team is complete, you will see a proven, tested engineering process that will quickly execute and exceed your expectations. \n",
    "# Take a look at our engineering process here: \n",
    "# Punch Engineering Services \n",
    "# Let's have a quick call to review our Project Hand Off Program with you. How's your calendar this week or the next?\n",
    "# Have a great day.'''\n",
    "# nn ='''Verdi,\n",
    "# When would you like to speak? I am available all day tomorrow.'''\n",
    "# nn = '''Hello Susanne,\n",
    "# I found your job posting on Glassdoor looking for a AWS Application Development Specialist and love the direction of your company!\n",
    "# Our Platform Shadow Program pairs our AWS Certified Engineers with yours 1-1 to achieve higher site reliability and expand platform support to a 16 or 24 hour cycle.\n",
    "# We can typically get our Platform Shadow Program kicked off in 24 - 48 hours from confirmation and close.\n",
    "# Can we discuss next Monday at 2PM EST? Otherwise feel free to email me back or schedule here.\n",
    "# Looking forward.'''\n",
    "nn ='''Hi Reviews, \n",
    "I found you onGlassdoor looking for a CustomerServices Representative II and wanted to reach out and discuss how our Outsourced Customer Service Solution can help transform your service organization for the better. \n",
    "Punch is an ex-Disney/Google trained customer service team that helps customers expand their service capabilities.\n",
    "We’ve worked with Comcast, Domino’s Pizza, Dish Networks, Charter Communications & Bit Defender to reduce customer churn and increase retention via Great Service. These projects included both technical & customer support.\n",
    "Working with us offers the following benefits:\n",
    "We can augment services to 16-or-24 hours\n",
    "We’re multilingual and can enable multilingual support\n",
    "Trained in popular software already\n",
    "E-mail, Phone, Chat, and Social support ready\n",
    "Our average first-call resolution rate > 86%\n",
    "Our average minimum call time < 5.26 minutes\n",
    "I’d love to show what we can do for The Windows Club via expanding support hours, introducing new support languages, establishing new support channels, and augmenting existing support efforts.\n",
    "Can we jump on a quick call to discuss your customer support needs? Book a meeting with me here. \n",
    "Cheers,'''\n",
    "nn='''Hi Reviews,\n",
    "I found you onGlassdoor looking for a CustmerServices Representatic II and wanted to reach out and discuss how out Outsourced         customer service solution can help trasnform your service organization for the better.\n",
    "We have worked with comcast, dominos pizza dish networks charter communications and bit defender to reduce customer churn and uincrease retentionv via'''\n",
    "nn ='''Rohan Tahir made 1 update. Xouno/XOUN-241 Sales / Non sales Modal'''\n",
    "nn ='''From:\n",
    "\"Zaid Jamshaid (Jira)\"\n",
    "Last Conversation :\n",
    "1/25/2023, 4:33:56 PM\n",
    "Mailbox :\n",
    "rafaymahmood@punch.cool\n",
    "\n",
    "Abdullah Yasir made 2 updates.\n",
    "  /  \t\n",
    "BLOOM Testing\n",
    "\tAbdullah Yasir 4:30 PM PKT\n",
    "Remaining Estimate:\t0 minutes → 2 days\n",
    "\n",
    "Original estimate:\t2 days\n",
    "\n",
    "Get Jira notifications on your phone! Download the Jira Cloud app for Android or iOS.\n",
    "\n",
    "Manage notifications  •  Give feedback  •  Privacy policy\n",
    " \n",
    "\n",
    "\n",
    "'''\n",
    "\n",
    "# nn ='''Anytime Tuesday the 23rd should work.'''\n",
    "nn='''Hey Steve,\n",
    "\n",
    "I wanted to check back in on BiGDUG and its E-commerce strategy -\n",
    "\n",
    "We're an E-Commerce UI/UX expert team based in Silicon Valley and New York that specializes in reducing cart abandonment and increasing the average order size per customer.\n",
    "\n",
    "Our UI/UX efforts focus on the analysis of cart shopping behavior and A-B test various cart mechanisms to improve overall cart performance.\n",
    " \n",
    "We have successfully executed multiple large-scale E-Commerce projects, including our work with LikeTwice.com (acquired by eBay) to drastically increase the average revenue per customer by 16%.\n",
    " \n",
    "gif\n",
    "\n",
    "I'd like to set up a quick call to discuss your current e-commerce program and compare notes on how we may be able to help leverage our expertise to drive ROI.\n",
    "\n",
    "Let's meet this Thursday to discuss.\n",
    "\n",
    "Book a meeting\n",
    "\n",
    "Cheers.'''"
   ]
  },
  {
   "cell_type": "code",
   "execution_count": null,
   "id": "9b7d1bba",
   "metadata": {},
   "outputs": [],
   "source": [
    "# testt = []\n",
    "# testt.append(nn)\n",
    "# for i in testt:\n",
    "#     i = clean(i)\n",
    "#     print(i)\n",
    "\n",
    "testt = token.texts_to_sequences([nn])\n",
    "testt = pad_sequences(testt,padding='pre',truncating='pre',maxlen=max_len)"
   ]
  },
  {
   "cell_type": "code",
   "execution_count": null,
   "id": "24d7b528",
   "metadata": {},
   "outputs": [],
   "source": [
    "# for i in testt:\n",
    "B = np.reshape(testt, (-1, testt.size))\n",
    "result = model.predict(B)\n",
    "print(round(result[0][0]))\n"
   ]
  },
  {
   "cell_type": "code",
   "execution_count": null,
   "id": "935a6de1",
   "metadata": {},
   "outputs": [],
   "source": [
    "# testt = []\n",
    "# test.append(nn)\n",
    "# for i in testt:\n",
    "#     i = clean(i)\n",
    "#     print(i)\n",
    "    \n",
    "testt = token.texts_to_sequences([nn])\n",
    "testt = pad_sequences(testt,padding='pre',truncating='pre',maxlen=max_len)"
   ]
  },
  {
   "cell_type": "code",
   "execution_count": null,
   "id": "091c1bfe",
   "metadata": {},
   "outputs": [],
   "source": [
    "nn"
   ]
  },
  {
   "cell_type": "code",
   "execution_count": null,
   "id": "0c863f4e",
   "metadata": {},
   "outputs": [],
   "source": []
  },
  {
   "cell_type": "code",
   "execution_count": null,
   "id": "9eaa24ca",
   "metadata": {},
   "outputs": [],
   "source": []
  },
  {
   "cell_type": "code",
   "execution_count": null,
   "id": "4ccfa41f",
   "metadata": {},
   "outputs": [],
   "source": [
    "def new_function()\n",
    "    for x in range(0,len(pop)):\n",
    "        if catch == 'Email Sales':\n",
    "            go.append(qq[1])"
   ]
  },
  {
   "cell_type": "code",
   "execution_count": null,
   "id": "9d97adc5",
   "metadata": {},
   "outputs": [],
   "source": [
    "def function()\n",
    "    for i in testing_data:\n",
    "        B = np.reshape(i.(-1,i.size))\n",
    "        result = model.predict(B)\n",
    "        lstm_results.append(round(output[0][0]))\n",
    "        print(round(output[0][0]))"
   ]
  },
  {
   "cell_type": "code",
   "execution_count": null,
   "id": "7054072a",
   "metadata": {},
   "outputs": [],
   "source": [
    "lstm_results = []"
   ]
  },
  {
   "cell_type": "code",
   "execution_count": null,
   "id": "827dcbb3",
   "metadata": {
    "scrolled": true
   },
   "outputs": [],
   "source": [
    "for i in testing_data:\n",
    "    B = np.reshape(i, (-1, i.size))\n",
    "    result = model.predict(B)\n",
    "    lstm_results.append(round(result[0][0]))\n",
    "    print(round(result[0][0]))\n"
   ]
  },
  {
   "cell_type": "code",
   "execution_count": null,
   "id": "317ba67c",
   "metadata": {},
   "outputs": [],
   "source": [
    "original_data['LSTM_Results'] = lstm_results"
   ]
  },
  {
   "cell_type": "code",
   "execution_count": null,
   "id": "b60c30ca",
   "metadata": {},
   "outputs": [],
   "source": [
    "original_data['LSTM_Results']"
   ]
  },
  {
   "cell_type": "code",
   "execution_count": null,
   "id": "916fa047",
   "metadata": {},
   "outputs": [],
   "source": [
    "import requests\n",
    "\n",
    "API_URL = \"http://103.217.176.165/api/sales\"\n",
    "\n",
    "\n",
    "def query(payload):\n",
    "    response = requests.post(API_URL, json=payload)\n",
    "    return response.json()\n"
   ]
  },
  {
   "cell_type": "code",
   "execution_count": null,
   "id": "54d81e72",
   "metadata": {},
   "outputs": [],
   "source": [
    "api_Data = pd.read_csv(\"TestData.csv\",header=None,encoding='cp1252')\n",
    "api_Data.columns = headers\n",
    "original_data2 = api_Data\n",
    "check2 = api_Data['Text'].apply(lambda x : clean(x))"
   ]
  },
  {
   "cell_type": "code",
   "execution_count": null,
   "id": "46c4127d",
   "metadata": {},
   "outputs": [],
   "source": [
    "api_Data = pd.read_csv(\"TestData.csv\",header=None,encoding='cp12522')\n",
    "api_Data.columns = headers"
   ]
  },
  {
   "cell_type": "code",
   "execution_count": null,
   "id": "91ed5a98",
   "metadata": {
    "scrolled": true
   },
   "outputs": [],
   "source": [
    "for i in check2:\n",
    "    a = query({\n",
    "        \"input\":i\n",
    "    })\n",
    "    api_data.append(a['output'])\n",
    "    print(a['output'])\n",
    "    "
   ]
  },
  {
   "cell_type": "code",
   "execution_count": null,
   "id": "5ea99ae7",
   "metadata": {},
   "outputs": [],
   "source": [
    "api_data"
   ]
  },
  {
   "cell_type": "code",
   "execution_count": null,
   "id": "34c1aa1f",
   "metadata": {},
   "outputs": [],
   "source": [
    "original_data['API_RESULTS'] = api_data"
   ]
  },
  {
   "cell_type": "code",
   "execution_count": null,
   "id": "3f7b0e16",
   "metadata": {},
   "outputs": [],
   "source": [
    "original_data"
   ]
  },
  {
   "cell_type": "code",
   "execution_count": null,
   "id": "59566d00",
   "metadata": {},
   "outputs": [],
   "source": [
    "original_data.to_csv(\"LSTM-Updated-Results.csv\", encoding='utf-8')"
   ]
  },
  {
   "cell_type": "code",
   "execution_count": null,
   "id": "8a93a553",
   "metadata": {},
   "outputs": [],
   "source": [
    "# update = df.read_csv(\"TestData.csv\")"
   ]
  },
  {
   "cell_type": "code",
   "execution_count": null,
   "id": "81e1b086",
   "metadata": {},
   "outputs": [],
   "source": [
    "# newinput = token.texts_to_sequences(newinput)\n",
    "# newinput = pad_sequences(newinput,padding='pre',truncating='pre',maxlen=max_len)\n",
    "# result = model.predict(newinput)\n",
    "# result"
   ]
  },
  {
   "cell_type": "code",
   "execution_count": null,
   "id": "ac162119",
   "metadata": {},
   "outputs": [],
   "source": []
  },
  {
   "cell_type": "code",
   "execution_count": null,
   "id": "b1d6fe18",
   "metadata": {},
   "outputs": [],
   "source": []
  },
  {
   "cell_type": "code",
   "execution_count": null,
   "id": "14878a79",
   "metadata": {},
   "outputs": [],
   "source": [
    "# Input:var cards = ['Jack', 8, 2, 6, 'King', 5, 3, 'Queen']\n",
    "# Output:Requried Output = [2,3,5,6,8,'Jack','Queen','King']\n",
    "# Explanation:Sort the array"
   ]
  },
  {
   "cell_type": "code",
   "execution_count": null,
   "id": "6d186f01",
   "metadata": {},
   "outputs": [],
   "source": [
    "type(cards[1])"
   ]
  },
  {
   "cell_type": "code",
   "execution_count": null,
   "id": "52945473",
   "metadata": {},
   "outputs": [],
   "source": []
  }
 ],
 "metadata": {
  "kernelspec": {
   "display_name": "Python 3 (ipykernel)",
   "language": "python",
   "name": "python3"
  },
  "language_info": {
   "codemirror_mode": {
    "name": "ipython",
    "version": 3
   },
   "file_extension": ".py",
   "mimetype": "text/x-python",
   "name": "python",
   "nbconvert_exporter": "python",
   "pygments_lexer": "ipython3",
   "version": "3.9.13"
  }
 },
 "nbformat": 4,
 "nbformat_minor": 5
}
